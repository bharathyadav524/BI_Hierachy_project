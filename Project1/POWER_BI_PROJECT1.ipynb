{
 "cells": [
  {
   "cell_type": "code",
   "execution_count": null,
   "id": "4877857e-a24f-4ad4-8931-fa8cd2400356",
   "metadata": {},
   "outputs": [],
   "source": [
    "'''\n",
    "Steps to Modify and Export Data Using Python:\n",
    "\n",
    "1. Load the Data into Jupyter\n",
    "   - Open your Jupyter Notebook environment.  \n",
    "\n",
    "2. Load the Data Using Pandas \n",
    "   - Use the Pandas library to load the data into your workspace as a DataFrame.\n",
    "\n",
    "3. Select the Column to Modify  \n",
    "   - Identify the column you want to modify or transform.  \n",
    "\n",
    "4. Transform the Column \n",
    "   - Use appropriate Pandas methods to split, extract, or modify the selected column into new columns.\n",
    "\n",
    "5. Update the Original DataFrame  \n",
    "   - Add the newly created columns back to the original DataFrame.\n",
    "\n",
    "6. Export the Updated DataFrame\n",
    "   - Save the modified DataFrame to your desired file location in the format of your choice (e.g., CSV).\n",
    "'''"
   ]
  },
  {
   "cell_type": "code",
   "execution_count": 19,
   "id": "73c78f92-a9d4-48a2-b505-3904480bbb7d",
   "metadata": {},
   "outputs": [
    {
     "name": "stdout",
     "output_type": "stream",
     "text": [
      "      Row ID        Order ID  Order Date   Ship Date       Ship Mode  \\\n",
      "0          1  CA-2017-152156  08/11/2017  11/11/2017    Second Class   \n",
      "1          2  CA-2017-152156  08/11/2017  11/11/2017    Second Class   \n",
      "2          3  CA-2017-138688  12/06/2017  16/06/2017    Second Class   \n",
      "3          4  US-2016-108966  11/10/2016  18/10/2016  Standard Class   \n",
      "4          5  US-2016-108966  11/10/2016  18/10/2016  Standard Class   \n",
      "...      ...             ...         ...         ...             ...   \n",
      "9795    9796  CA-2017-125920  21/05/2017  28/05/2017  Standard Class   \n",
      "9796    9797  CA-2016-128608  12/01/2016  17/01/2016  Standard Class   \n",
      "9797    9798  CA-2016-128608  12/01/2016  17/01/2016  Standard Class   \n",
      "9798    9799  CA-2016-128608  12/01/2016  17/01/2016  Standard Class   \n",
      "9799    9800  CA-2016-128608  12/01/2016  17/01/2016  Standard Class   \n",
      "\n",
      "     Customer ID     Customer Name    Segment        Country             City  \\\n",
      "0       CG-12520       Claire Gute   Consumer  United States        Henderson   \n",
      "1       CG-12520       Claire Gute   Consumer  United States        Henderson   \n",
      "2       DV-13045   Darrin Van Huff  Corporate  United States      Los Angeles   \n",
      "3       SO-20335    Sean O'Donnell   Consumer  United States  Fort Lauderdale   \n",
      "4       SO-20335    Sean O'Donnell   Consumer  United States  Fort Lauderdale   \n",
      "...          ...               ...        ...            ...              ...   \n",
      "9795    SH-19975     Sally Hughsby  Corporate  United States          Chicago   \n",
      "9796    CS-12490  Cindy Schnelling  Corporate  United States           Toledo   \n",
      "9797    CS-12490  Cindy Schnelling  Corporate  United States           Toledo   \n",
      "9798    CS-12490  Cindy Schnelling  Corporate  United States           Toledo   \n",
      "9799    CS-12490  Cindy Schnelling  Corporate  United States           Toledo   \n",
      "\n",
      "           State  Postal Code   Region       Product ID         Category  \\\n",
      "0       Kentucky      42420.0    South  FUR-BO-10001798        Furniture   \n",
      "1       Kentucky      42420.0    South  FUR-CH-10000454        Furniture   \n",
      "2     California      90036.0     West  OFF-LA-10000240  Office Supplies   \n",
      "3        Florida      33311.0    South  FUR-TA-10000577        Furniture   \n",
      "4        Florida      33311.0    South  OFF-ST-10000760  Office Supplies   \n",
      "...          ...          ...      ...              ...              ...   \n",
      "9795    Illinois      60610.0  Central  OFF-BI-10003429  Office Supplies   \n",
      "9796        Ohio      43615.0     East  OFF-AR-10001374  Office Supplies   \n",
      "9797        Ohio      43615.0     East  TEC-PH-10004977       Technology   \n",
      "9798        Ohio      43615.0     East  TEC-PH-10000912       Technology   \n",
      "9799        Ohio      43615.0     East  TEC-AC-10000487       Technology   \n",
      "\n",
      "     Sub-Category                                       Product Name     Sales  \n",
      "0       Bookcases                  Bush Somerset Collection Bookcase  261.9600  \n",
      "1          Chairs  Hon Deluxe Fabric Upholstered Stacking Chairs,...  731.9400  \n",
      "2          Labels  Self-Adhesive Address Labels for Typewriters b...   14.6200  \n",
      "3          Tables      Bretford CR4500 Series Slim Rectangular Table  957.5775  \n",
      "4         Storage                     Eldon Fold 'N Roll Cart System   22.3680  \n",
      "...           ...                                                ...       ...  \n",
      "9795      Binders  Cardinal HOLDit! Binder Insert Strips,Extra St...    3.7980  \n",
      "9796          Art           BIC Brite Liner Highlighters, Chisel Tip   10.3680  \n",
      "9797       Phones                                        GE 30524EE4  235.1880  \n",
      "9798       Phones           Anker 24W Portable Micro USB Car Charger   26.3760  \n",
      "9799  Accessories                SanDisk Cruzer 4 GB USB Flash Drive   10.3840  \n",
      "\n",
      "[9800 rows x 18 columns]\n"
     ]
    }
   ],
   "source": [
    "#Load the Data Using Pandas \n",
    "import pandas as pd\n",
    "\n",
    "csv = pd.read_csv(\"train.csv\")\n",
    "\n",
    "df = pd.DataFrame(csv)\n",
    "print(df)"
   ]
  },
  {
   "cell_type": "code",
   "execution_count": 6,
   "id": "b301d4e9-db01-4947-86af-3bc36534d35a",
   "metadata": {},
   "outputs": [
    {
     "data": {
      "text/plain": [
       "0    08/11/2017\n",
       "1    08/11/2017\n",
       "2    12/06/2017\n",
       "3    11/10/2016\n",
       "4    11/10/2016\n",
       "5    09/06/2015\n",
       "6    09/06/2015\n",
       "7    09/06/2015\n",
       "8    09/06/2015\n",
       "9    09/06/2015\n",
       "Name: Order Date, dtype: object"
      ]
     },
     "execution_count": 6,
     "metadata": {},
     "output_type": "execute_result"
    }
   ],
   "source": [
    "df[\"Order Date\"].head(10) #Select the Column to Modify "
   ]
  },
  {
   "cell_type": "code",
   "execution_count": 13,
   "id": "2c8bd1b3-60e8-4a10-a4e0-d28530058482",
   "metadata": {},
   "outputs": [
    {
     "name": "stdout",
     "output_type": "stream",
     "text": [
      "     Order Date  Year  Quarter  Month\n",
      "0    2017-11-08  2017        4     11\n",
      "1    2017-11-08  2017        4     11\n",
      "2    2017-06-12  2017        2      6\n",
      "3    2016-10-11  2016        4     10\n",
      "4    2016-10-11  2016        4     10\n",
      "...         ...   ...      ...    ...\n",
      "9795 2017-05-21  2017        2      5\n",
      "9796 2016-01-12  2016        1      1\n",
      "9797 2016-01-12  2016        1      1\n",
      "9798 2016-01-12  2016        1      1\n",
      "9799 2016-01-12  2016        1      1\n",
      "\n",
      "[9800 rows x 4 columns]\n"
     ]
    }
   ],
   "source": [
    "#Transform the Column \n",
    "\n",
    "\n",
    "# Convert the 'Order Date' column to datetime format\n",
    "df[\"Order Date\"] = pd.to_datetime(df[\"Order Date\"], format=\"%d/%m/%Y\")\n",
    "\n",
    "# Extract Year, Quarter, and Month\n",
    "df[\"Year\"] = df[\"Order Date\"].dt.year\n",
    "df[\"Quarter\"] = df[\"Order Date\"].dt.quarter\n",
    "df[\"Month\"] = df[\"Order Date\"].dt.month\n",
    "\n",
    "# Display the first few rows to verify\n",
    "df2 = df[[\"Order Date\", \"Year\", \"Quarter\", \"Month\"]]\n",
    "print(df2)\n"
   ]
  },
  {
   "cell_type": "code",
   "execution_count": 14,
   "id": "3391d68c-7a3a-4978-a526-726ddebe433b",
   "metadata": {},
   "outputs": [
    {
     "name": "stdout",
     "output_type": "stream",
     "text": [
      "  Order Date  Year  Quarter  Month Order Date Format\n",
      "0 2017-11-08  2017        4     11       2017-Q4-M11\n",
      "1 2017-11-08  2017        4     11       2017-Q4-M11\n",
      "2 2017-06-12  2017        2      6        2017-Q2-M6\n",
      "3 2016-10-11  2016        4     10       2016-Q4-M10\n",
      "4 2016-10-11  2016        4     10       2016-Q4-M10\n"
     ]
    }
   ],
   "source": [
    "#Update the Original DataFrame \n",
    "\n",
    "\n",
    "\n",
    "# Create a new column with a formatted string\n",
    "df[\"Order Date Format\"] = df[\"Year\"].astype(str) + \"-Q\" + df[\"Quarter\"].astype(str) + \"-M\" + df[\"Month\"].astype(str)\n",
    "\n",
    "# Display the first few rows\n",
    "print(df[[\"Order Date\", \"Year\", \"Quarter\", \"Month\", \"Order Date Format\"]].head())\n"
   ]
  },
  {
   "cell_type": "code",
   "execution_count": 17,
   "id": "fb05676e-1064-4895-a5cd-100fe9feccd3",
   "metadata": {},
   "outputs": [
    {
     "name": "stdout",
     "output_type": "stream",
     "text": [
      "Index(['Row ID', 'Order ID', 'Order Date', 'Ship Date', 'Ship Mode',\n",
      "       'Customer ID', 'Customer Name', 'Segment', 'Country', 'City', 'State',\n",
      "       'Postal Code', 'Region', 'Product ID', 'Category', 'Sub-Category',\n",
      "       'Product Name', 'Sales', 'Year', 'Quarter', 'Month',\n",
      "       'Order Date Format'],\n",
      "      dtype='object')\n"
     ]
    }
   ],
   "source": [
    "print(df.columns)"
   ]
  },
  {
   "cell_type": "code",
   "execution_count": 18,
   "id": "1ec646ed-3519-401e-a112-e21e6f82659d",
   "metadata": {},
   "outputs": [
    {
     "name": "stdout",
     "output_type": "stream",
     "text": [
      "File saved as 'updated_dataset.csv'\n"
     ]
    }
   ],
   "source": [
    "#Export the Updated DataFrame\n",
    "\n",
    "# Export the DataFrame to a CSV file\n",
    "df.to_csv(\"C:\\\\Users\\\\bhara\\\\Downloads\\\\updated_dataset.csv\", index=False)\n",
    "\n",
    "print(\"File saved as 'updated_dataset.csv'\")\n"
   ]
  }
 ],
 "metadata": {
  "kernelspec": {
   "display_name": "Python 3 (ipykernel)",
   "language": "python",
   "name": "python3"
  },
  "language_info": {
   "codemirror_mode": {
    "name": "ipython",
    "version": 3
   },
   "file_extension": ".py",
   "mimetype": "text/x-python",
   "name": "python",
   "nbconvert_exporter": "python",
   "pygments_lexer": "ipython3",
   "version": "3.13.1"
  }
 },
 "nbformat": 4,
 "nbformat_minor": 5
}
